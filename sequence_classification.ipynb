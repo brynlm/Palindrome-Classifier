{
 "cells": [
  {
   "cell_type": "code",
   "execution_count": 1,
   "metadata": {},
   "outputs": [
    {
     "name": "stderr",
     "output_type": "stream",
     "text": [
      "2024-05-05 13:35:27.596384: I tensorflow/core/platform/cpu_feature_guard.cc:182] This TensorFlow binary is optimized to use available CPU instructions in performance-critical operations.\n",
      "To enable the following instructions: AVX2 FMA, in other operations, rebuild TensorFlow with the appropriate compiler flags.\n"
     ]
    }
   ],
   "source": [
    "import tensorflow as tf\n",
    "import numpy as np\n",
    "import matplotlib.pyplot as plt\n",
    "from IPython.display import clear_output"
   ]
  },
  {
   "cell_type": "markdown",
   "metadata": {},
   "source": [
    "### Sequence classification task/experiment:"
   ]
  },
  {
   "cell_type": "markdown",
   "metadata": {},
   "source": [
    "Notes:\n",
    "\n",
    "- loss dropped very quickly, however the attention scores are uniformly distributed for every combination; its likely that the same results would occur even for a normal neural network, as no self-attending within the sequences is happening.\n",
    "- this is however, with no positional embedding. We can test how the observed self-attention scores change when the sequences become harder and when positional embedding is added. Right now however, the task appears to be too simple.\n",
    "- turns out the reason the error dropped so easily is the same reason it happened on the BELKA set: there were way more negative labels than positive, so it just guessed negative for everything and was able to get good accuracy and error.\n",
    "\n",
    "- positional encoding made a MASSIVE difference in the dynamics of the attention score updates.\n",
    "\n",
    "- when the positive labels are not oversampled, the network will simply learn to classify everything as negative. Will need to look into oversampling while mitigating overfitting.\n",
    "- training on oversampled data yields good accuracy on the original dataset. HOWEVER, the precision score is very bad, around 20%.\n",
    "- on real datasets oversampling in this way will not be possible; instead oversampling will \n",
    "    be done by duplicating the positively labelled samples, which could have worse effects on generalization error."
   ]
  },
  {
   "cell_type": "code",
   "execution_count": 2,
   "metadata": {},
   "outputs": [],
   "source": [
    "MAX_LENGTH = 6\n",
    "MIN_LENGTH = 4\n",
    "MAX_TOKENS = 3\n",
    "symbols = ['[PAD]','A','B','C','D']\n",
    "symbols_dict = {'A':1,'B':2,'C':3,'D':4,'[PAD]':0}\n",
    "def gen_seq(constant_len=False, k=4):\n",
    "    n = MAX_LENGTH\n",
    "    if constant_len==False:\n",
    "        n = np.random.choice(np.arange(MIN_LENGTH,MAX_LENGTH+1))\n",
    "    seq = np.random.choice(list(range(1,k+1)),size=n)\n",
    "    seq = [symbols[i] for i in seq] + (MAX_LENGTH-n)*['[PAD]']\n",
    "\n",
    "#     print(seq)\n",
    "#     seq += (3-n)*['[PAD]']\n",
    "#     yield seq, is_set(seq)\n",
    "    return seq\n",
    "\n",
    "def is_palindrome(x):\n",
    "    n = 0\n",
    "    for i in x:\n",
    "        if i == '[PAD]':\n",
    "            break\n",
    "        n+=1\n",
    "    for i in range(n//2):\n",
    "        if x[i] != x[n-i-1]:\n",
    "            return 0\n",
    "    return 1\n",
    "\n",
    "# the generator is currently implemented to alternate between 1 and 0-labelled samples, so final dataset contains an equal number of both.\n",
    "def gen_data():\n",
    "    prev = 1\n",
    "    while True:\n",
    "        seq = gen_seq(constant_len=False,k=MAX_TOKENS)\n",
    "        label = is_palindrome(seq)\n",
    "        if label == prev:\n",
    "            continue\n",
    "        prev = label\n",
    "        seq = [symbols_dict[key] for key in seq]\n",
    "        yield seq,label\n",
    "        \n",
    "def gen_data_unequal():\n",
    "    while True:\n",
    "        seq = gen_seq(constant_len=False,k=MAX_TOKENS)\n",
    "        label = is_palindrome(seq)\n",
    "        seq = [symbols_dict[key] for key in seq]\n",
    "        yield seq,label"
   ]
  },
  {
   "cell_type": "code",
   "execution_count": 3,
   "metadata": {},
   "outputs": [],
   "source": [
    "# positional encoding function (taken from the Tensorflow Transformer tutorial)\n",
    "def positional_encoding(length, depth):\n",
    "    depth = depth/2\n",
    "\n",
    "    positions = np.arange(length)[:, np.newaxis]     # (seq, 1)\n",
    "    depths = np.arange(depth)[np.newaxis, :]/depth   # (1, depth)\n",
    "\n",
    "    angle_rates = 1 / (10000**depths)         # (1, depth)\n",
    "    angle_rads = positions * angle_rates      # (pos, depth)\n",
    "\n",
    "    pos_encoding = np.concatenate(\n",
    "      [np.sin(angle_rads), np.cos(angle_rads)],\n",
    "      axis=-1) \n",
    "\n",
    "    return tf.cast(pos_encoding, dtype=tf.float32)\n",
    "\n",
    "# PositionalEmbedding layer class definition (taken from Tensorflow Transformer Tutorial) \n",
    "class PositionalEmbedding(tf.keras.layers.Layer):\n",
    "    def __init__(self, vocab_size, d_model):\n",
    "        super().__init__()\n",
    "        self.d_model = d_model\n",
    "        self.embedding = tf.keras.layers.Embedding(vocab_size, d_model,mask_zero=True) #<-- ZERO-PADDING\n",
    "        self.pos_encoding = positional_encoding(length=MAX_LENGTH, depth=d_model)\n",
    "\n",
    "    def compute_mask(self, *args, **kwargs):\n",
    "        return self.embedding.compute_mask(*args, **kwargs)\n",
    "\n",
    "    def call(self, x):\n",
    "        length = MAX_LENGTH\n",
    "        x = self.embedding(x)\n",
    "        # This factor sets the relative scale of the embedding and positonal_encoding.\n",
    "        x *= tf.math.sqrt(tf.cast(self.d_model, tf.float32))\n",
    "        x = x + self.pos_encoding[tf.newaxis, :length, :]\n",
    "        return x"
   ]
  },
  {
   "cell_type": "code",
   "execution_count": 58,
   "metadata": {},
   "outputs": [],
   "source": [
    "tr_data = tf.data.Dataset.from_generator(gen_data,output_signature=(tf.TensorSpec(shape=(MAX_LENGTH,),dtype=tf.int32),\n",
    "                                                               tf.TensorSpec(shape=(),dtype=tf.int32))).shuffle(10).batch(20)\n",
    "\n",
    "dense1 = tf.keras.layers.Dense(64,activation='relu')\n",
    "dense2 = tf.keras.layers.Dense(64,activation='relu')\n",
    "ffn = tf.keras.Sequential([dense1,dense2])\n",
    "\n",
    "inputs = tf.keras.Input((MAX_LENGTH,))\n",
    "# mask = tf.keras.layers.Masking(mask_value=0)(inputs)\n",
    "# emb = tf.keras.layers.Embedding(MAX_TOKENS+1,16)(mask)\n",
    "emb = PositionalEmbedding(MAX_TOKENS+1, 16)(inputs)\n",
    "\n",
    "# <-- this is where we'd also include the positional encoding\n",
    "mha = tf.keras.layers.MultiHeadAttention(num_heads=3,key_dim=32,dropout=0.2)\n",
    "x = mha(query=emb,value=emb) + emb\n",
    "x = tf.keras.layers.LayerNormalization()(x) #+ emb) # shape (batch,seq_len,d_model)\n",
    "x = ffn(x)\n",
    "# <-- residual connection + layernorm again?\n",
    "outputs = tf.keras.layers.EinsumDense('abc,cd->ad', output_shape=1)(x)\n",
    "\n",
    "classifier = tf.keras.Model(inputs=inputs, outputs=outputs)\n",
    "loss = tf.keras.losses.BinaryCrossentropy(from_logits=True)\n",
    "opt = tf.keras.optimizers.Adam(1e-3)\n",
    "classifier.compile(opt,loss)\n"
   ]
  },
  {
   "cell_type": "code",
   "execution_count": null,
   "metadata": {
    "jupyter": {
     "source_hidden": true
    }
   },
   "outputs": [],
   "source": [
    "m = tf.keras.layers.Embedding(4,3,mask_zero=True)\n",
    "a = m(tf.constant([1,2,3,0,0]))\n",
    "print(a)\n",
    "a._keras_mask"
   ]
  },
  {
   "cell_type": "code",
   "execution_count": 59,
   "metadata": {},
   "outputs": [],
   "source": [
    "losses=[]"
   ]
  },
  {
   "cell_type": "code",
   "execution_count": 60,
   "metadata": {},
   "outputs": [
    {
     "data": {
      "text/plain": [
       "[<matplotlib.lines.Line2D at 0x1653c92d0>]"
      ]
     },
     "execution_count": 60,
     "metadata": {},
     "output_type": "execute_result"
    },
    {
     "data": {
      "image/png": "[encoded data removed]",
      "text/plain": [
       "<Figure size 640x480 with 1 Axes>"
      ]
     },
     "metadata": {},
     "output_type": "display_data"
    }
   ],
   "source": [
    "history = classifier.fit(tr_data,epochs=3,steps_per_epoch=300)\n",
    "losses+=history.history['loss']\n",
    "clear_output()\n",
    "plt.plot(losses)"
   ]
  },
  {
   "cell_type": "code",
   "execution_count": 7,
   "metadata": {},
   "outputs": [],
   "source": [
    "acc = tf.keras.metrics.BinaryAccuracy()"
   ]
  },
  {
   "cell_type": "code",
   "execution_count": 61,
   "metadata": {},
   "outputs": [
    {
     "name": "stdout",
     "output_type": "stream",
     "text": [
      "% pos-labels in dataset:  0.098\n",
      "overall accuracy:  0.832\n",
      "true positive accuracy (recall):  0.97959185\n",
      "true negative accuracy:  0.8159645\n",
      "positive predictive value (precision):  0.36641222\n",
      "overall accuracy on oversampled dataset:  0.906\n"
     ]
    }
   ],
   "source": [
    "gen = gen_data_unequal()\n",
    "test_data = [next(gen) for i in range(500)]\n",
    "test_x,test_y = zip(*test_data)\n",
    "test_x = np.array(test_x)\n",
    "test_y = np.array(test_y)\n",
    "print('% pos-labels in dataset: ', np.sum(test_y)/500)\n",
    "pos_x = test_x[test_y==1]\n",
    "neg_x = test_x[test_y!=1]\n",
    "pred = tf.nn.sigmoid(classifier(tf.constant(test_x)))\n",
    "\n",
    "acc.reset_state()\n",
    "acc.update_state(test_y,pred)\n",
    "print('overall accuracy: ', acc.result().numpy())\n",
    "acc.reset_state()\n",
    "acc.update_state(1,pred[test_y==1])\n",
    "print('true positive accuracy (recall): ', acc.result().numpy())\n",
    "acc.reset_state()\n",
    "acc.update_state(0,pred[test_y==0])\n",
    "print('true negative accuracy: ', acc.result().numpy())\n",
    "\n",
    "acc.reset_state()\n",
    "acc.update_state(test_y[pred[:,0]>0.5],1)\n",
    "print('positive predictive value (precision): ', acc.result().numpy())\n",
    "\n",
    "gen = gen_data()\n",
    "test_data = [next(gen) for i in range(500)]\n",
    "test_x,test_y = zip(*test_data)\n",
    "pred = tf.nn.sigmoid(classifier(tf.constant(test_x)))\n",
    "acc.reset_state()\n",
    "acc.update_state(test_y,pred)\n",
    "print('overall accuracy on oversampled dataset: ', acc.result().numpy())"
   ]
  },
  {
   "cell_type": "code",
   "execution_count": 1256,
   "metadata": {},
   "outputs": [],
   "source": [
    "classifier.save_weights('./palindr_cons_length')"
   ]
  },
  {
   "cell_type": "code",
   "execution_count": 25,
   "metadata": {},
   "outputs": [],
   "source": [
    "def plot_attention_head(in_tokens, translated_tokens, attention):\n",
    "\n",
    "    num_heads,query_seq_len,key_seq_len = attention.shape\n",
    "    fig,ax=plt.subplots(1,num_heads,figsize=(15,10))\n",
    "    for i in range(num_heads):\n",
    "        ax[i].matshow(attention[i,:,:])\n",
    "        ax[i].set_xticks(range(len(in_tokens)))\n",
    "        ax[i].set_yticks(range(len(translated_tokens)))\n",
    "        ax[i].set_title(f'Attention head #{i}')\n",
    "\n",
    "        labels = in_tokens\n",
    "        ax[i].set_xticklabels(\n",
    "          labels, rotation=90)\n",
    "\n",
    "        labels = translated_tokens\n",
    "        ax[i].set_yticklabels(labels)\n",
    "    return fig"
   ]
  },
  {
   "cell_type": "code",
   "execution_count": 62,
   "metadata": {},
   "outputs": [],
   "source": [
    "embed = classifier.layers[1](tf.constant(test_x))\n",
    "_,atten_scores=mha(embed,embed, return_attention_scores=True)\n"
   ]
  },
  {
   "cell_type": "code",
   "execution_count": 68,
   "metadata": {},
   "outputs": [
    {
     "data": {
      "image/png": "[encoded data removed]",
      "text/plain": [
       "<Figure size 1500x1000 with 3 Axes>"
      ]
     },
     "metadata": {},
     "output_type": "display_data"
    }
   ],
   "source": [
    "sample=5\n",
    "# atten_weights = atten_scores[1,0,:,:]\n",
    "in_tokens = [symbols[i] for i in test_x[sample]]\n",
    "\n",
    "# fig = plt.subplots(1,3,figsize=(15,5))\n",
    "fig = plot_attention_head(in_tokens,in_tokens,atten_scores[sample,:,:,:])\n",
    "\n",
    "\n",
    "# plot_attention_head(in_tokens,in_tokens,atten_scores[sample,1,:,:])\n",
    "# plt.show()"
   ]
  },
  {
   "cell_type": "code",
   "execution_count": 69,
   "metadata": {},
   "outputs": [],
   "source": [
    "fig.savefig('./attention_map3.png')"
   ]
  },
  {
   "cell_type": "code",
   "execution_count": null,
   "metadata": {},
   "outputs": [],
   "source": []
  }
 ],
 "metadata": {
  "kernelspec": {
   "display_name": "tf310",
   "language": "python",
   "name": "tf310"
  },
  "language_info": {
   "codemirror_mode": {
    "name": "ipython",
    "version": 3
   },
   "file_extension": ".py",
   "mimetype": "text/x-python",
   "name": "python",
   "nbconvert_exporter": "python",
   "pygments_lexer": "ipython3",
   "version": "3.10.13"
  }
 },
 "nbformat": 4,
 "nbformat_minor": 4
}
